{
  "nbformat": 4,
  "nbformat_minor": 0,
  "metadata": {
    "colab": {
      "provenance": [],
      "authorship_tag": "ABX9TyOiEoTQoTZWdFKMWhR363sy",
      "include_colab_link": true
    },
    "kernelspec": {
      "name": "python3",
      "display_name": "Python 3"
    },
    "language_info": {
      "name": "python"
    }
  },
  "cells": [
    {
      "cell_type": "markdown",
      "metadata": {
        "id": "view-in-github",
        "colab_type": "text"
      },
      "source": [
        "<a href=\"https://colab.research.google.com/github/CodeByAbi/Pemrograman-Sains-Data/blob/main/Pemrograman_Sains_Data_(Pertemuan_4).ipynb\" target=\"_parent\"><img src=\"https://colab.research.google.com/assets/colab-badge.svg\" alt=\"Open In Colab\"/></a>"
      ]
    },
    {
      "cell_type": "markdown",
      "source": [
        "# **DISCRETE MATH USING PYTHON**\n"
      ],
      "metadata": {
        "id": "LesrewY7UQ5k"
      }
    },
    {
      "cell_type": "code",
      "execution_count": null,
      "metadata": {
        "id": "oUYgZK65UKol"
      },
      "outputs": [],
      "source": [
        "import pandas as pd\n",
        "import numpy as np"
      ]
    },
    {
      "cell_type": "code",
      "source": [
        "indA = pd.Index([1,3,5,7,9])\n",
        "indB = pd.Index([2,3,5,7,11])"
      ],
      "metadata": {
        "id": "yEUClQkxVkyC"
      },
      "execution_count": null,
      "outputs": []
    },
    {
      "cell_type": "markdown",
      "source": [
        "**Intersection**"
      ],
      "metadata": {
        "id": "25WFgJZUXpZE"
      }
    },
    {
      "cell_type": "code",
      "source": [
        "indA & indB #intersection"
      ],
      "metadata": {
        "colab": {
          "base_uri": "https://localhost:8080/"
        },
        "id": "2sCG83zGV2yb",
        "outputId": "9709ece1-ab1e-4f3b-9e40-73abdf726413"
      },
      "execution_count": null,
      "outputs": [
        {
          "output_type": "execute_result",
          "data": {
            "text/plain": [
              "Index([0, 3, 5, 7, 9], dtype='int64')"
            ]
          },
          "metadata": {},
          "execution_count": 3
        }
      ]
    },
    {
      "cell_type": "markdown",
      "source": [
        "**Union**"
      ],
      "metadata": {
        "id": "Y4SThze1Xto3"
      }
    },
    {
      "cell_type": "code",
      "source": [
        "indA | indB #union"
      ],
      "metadata": {
        "colab": {
          "base_uri": "https://localhost:8080/"
        },
        "id": "59x-AwfrV5vg",
        "outputId": "a8da1c44-63a2-4516-9430-cec990c7d908"
      },
      "execution_count": null,
      "outputs": [
        {
          "output_type": "execute_result",
          "data": {
            "text/plain": [
              "Index([3, 3, 5, 7, 11], dtype='int64')"
            ]
          },
          "metadata": {},
          "execution_count": 4
        }
      ]
    },
    {
      "cell_type": "markdown",
      "source": [
        "**Symmetric Diffrence**"
      ],
      "metadata": {
        "id": "g2GZYgDzXw_V"
      }
    },
    {
      "cell_type": "code",
      "source": [
        "indA ^ indB #symmetric diffrence"
      ],
      "metadata": {
        "colab": {
          "base_uri": "https://localhost:8080/"
        },
        "id": "zvYNGOkzXN21",
        "outputId": "eaeffb69-4e62-4d65-e733-869e09539a67"
      },
      "execution_count": null,
      "outputs": [
        {
          "output_type": "execute_result",
          "data": {
            "text/plain": [
              "Index([3, 0, 0, 0, 2], dtype='int64')"
            ]
          },
          "metadata": {},
          "execution_count": 5
        }
      ]
    },
    {
      "cell_type": "code",
      "source": [
        "#(1)-Defining the DataFrames\n",
        "\n",
        "#1.1 Python students\n",
        "P = pd.DataFrame ({\"Name\" : [\"Elizabeth\", \"Darcy\"],\n",
        "                   \"email\" : [\"bennet@xyz.com\", \"darcy@gmail.com\"]})\n",
        "\n",
        "#1.2 SQL students\n",
        "S = pd.DataFrame ({\"name\" : [\"bingley\", \"Elizabeth\"],\n",
        "                  \"email\" : [\"bingley@xyz.com\", \"bennet@xyz.com\"]})\n",
        "\n",
        "#(2)-Performing set operations\n",
        "\n",
        "#2.1 Union\n",
        "all_student = pd.concat([P, S], ignore_index = True)\n",
        "all_student = all_student.drop_duplicates()\n",
        "\n",
        "#2.2 Intersection\n",
        "sql_python = P.merge(S)\n",
        "\n",
        "#2.3 Diffrence\n",
        "python_only = P[P.email.isin(S.email) == False]\n",
        "sql_only = S[S.email.isin(P.email) == False]\n",
        "\n",
        "#3 Showing Result\n",
        "print(\"------------------\")\n",
        "print(\"all_students {UNION} : \")\n",
        "print(all_student)\n",
        "\n",
        "print(\"------------------\")\n",
        "print(\"Student enrollled in both courses (INTERSECTION) : \")\n",
        "print(sql_python)\n",
        "\n",
        "print(\"------------------\")\n",
        "print(\"Python students who are not taking SQL (DIFFRENCE) : \")\n",
        "print(python_only)\n",
        "\n",
        "print(\"------------------\")\n",
        "print(\"SQL students who are not takung Python (DIFFRENCE) : \")\n",
        "print(sql_only)\n",
        "\n",
        "\n"
      ],
      "metadata": {
        "colab": {
          "base_uri": "https://localhost:8080/"
        },
        "id": "MHgH22ODXP_t",
        "outputId": "610df8be-3a66-454f-fc4e-ff475ee71126"
      },
      "execution_count": null,
      "outputs": [
        {
          "output_type": "stream",
          "name": "stdout",
          "text": [
            "------------------\n",
            "all_students {UNION} : \n",
            "        Name            email       name\n",
            "0  Elizabeth   bennet@xyz.com        NaN\n",
            "1      Darcy  darcy@gmail.com        NaN\n",
            "2        NaN  bingley@xyz.com    bingley\n",
            "3        NaN   bennet@xyz.com  Elizabeth\n",
            "------------------\n",
            "Student enrollled in both courses (INTERSECTION) : \n",
            "        Name           email       name\n",
            "0  Elizabeth  bennet@xyz.com  Elizabeth\n",
            "------------------\n",
            "Python students who are not taking SQL (DIFFRENCE) : \n",
            "    Name            email\n",
            "1  Darcy  darcy@gmail.com\n",
            "------------------\n",
            "SQL students who are not takung Python (DIFFRENCE) : \n",
            "      name            email\n",
            "0  bingley  bingley@xyz.com\n"
          ]
        }
      ]
    },
    {
      "cell_type": "code",
      "source": [],
      "metadata": {
        "id": "lxRr7O1waDVi"
      },
      "execution_count": null,
      "outputs": []
    }
  ]
}