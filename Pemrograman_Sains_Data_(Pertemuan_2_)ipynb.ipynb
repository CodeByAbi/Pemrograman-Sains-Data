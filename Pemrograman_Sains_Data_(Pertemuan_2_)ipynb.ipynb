{
  "nbformat": 4,
  "nbformat_minor": 0,
  "metadata": {
    "colab": {
      "provenance": [],
      "authorship_tag": "ABX9TyMbsvHF+zTkjAI8JGzHyKvv",
      "include_colab_link": true
    },
    "kernelspec": {
      "name": "python3",
      "display_name": "Python 3"
    },
    "language_info": {
      "name": "python"
    }
  },
  "cells": [
    {
      "cell_type": "markdown",
      "metadata": {
        "id": "view-in-github",
        "colab_type": "text"
      },
      "source": [
        "<a href=\"https://colab.research.google.com/github/CodeByAbi/Pemrograman-Sains-Data/blob/main/Pemrograman_Sains_Data_(Pertemuan_2_)ipynb.ipynb\" target=\"_parent\"><img src=\"https://colab.research.google.com/assets/colab-badge.svg\" alt=\"Open In Colab\"/></a>"
      ]
    },
    {
      "cell_type": "markdown",
      "source": [
        "# **Tugas Pertemuan 2**"
      ],
      "metadata": {
        "id": "33aSlssXAYdh"
      }
    },
    {
      "cell_type": "code",
      "source": [
        "import numpy as np"
      ],
      "metadata": {
        "id": "FH9rT55uA66s"
      },
      "execution_count": null,
      "outputs": []
    },
    {
      "cell_type": "code",
      "source": [
        "angka = np.arange(11,36)\n",
        "matriks = angka.reshape(5,5)\n",
        "\n",
        "# Membuat Angka jadi Berwarna dengan warna-warna tertentu\n",
        "def warna_angka(angka):\n",
        "    if angka in [11, 13, 15, 21, 23, 25, 31, 33, 35] :\n",
        "      return \"\\033[32m{}\\033[0m\".format(angka) #Warna Hijau\n",
        "    elif angka in [12, 14] :\n",
        "      return \"\\033[31m{}\\033[0m\".format(angka) #warna Merah\n",
        "    elif angka in [16, 26] :\n",
        "      return \"\\033[34m{}\\033[0m\".format(angka) #Warna Biru\n",
        "    elif angka in [12, 17, 22, 22, 27, 32] :\n",
        "      return \"\\033[91m{}\\033[0m\".format(angka) #Warna Merah Muda\n",
        "    else :\n",
        "      return str(angka)\n",
        "\n",
        "# Mengubah dengan warna angka yang sudah di rubah\n",
        "matriks_warna = np.vectorize(warna_angka)(matriks)\n",
        "\n",
        "# Menampilkan matriks\n",
        "for baris in matriks_warna :\n",
        "  print(\" \".join(baris))\n"
      ],
      "metadata": {
        "colab": {
          "base_uri": "https://localhost:8080/"
        },
        "id": "BJSkUYaNBmgI",
        "outputId": "7a19c4a2-9081-409e-e1fd-58f7101c30c9"
      },
      "execution_count": null,
      "outputs": [
        {
          "output_type": "stream",
          "name": "stdout",
          "text": [
            "\u001b[32m11\u001b[0m \u001b[31m12\u001b[0m \u001b[32m13\u001b[0m \u001b[31m14\u001b[0m \u001b[32m15\u001b[0m\n",
            "\u001b[34m16\u001b[0m \u001b[91m17\u001b[0m 18 19 20\n",
            "\u001b[32m21\u001b[0m \u001b[91m22\u001b[0m \u001b[32m23\u001b[0m 24 \u001b[32m25\u001b[0m\n",
            "\u001b[34m26\u001b[0m \u001b[91m27\u001b[0m 28 29 30\n",
            "\u001b[32m31\u001b[0m \u001b[91m32\u001b[0m \u001b[32m33\u001b[0m 34 \u001b[32m35\u001b[0m\n"
          ]
        }
      ]
    },
    {
      "cell_type": "markdown",
      "source": [
        "# **Numpy**\n",
        "\n",
        "NumPy (singkatan dari Numerical Python) menyediakan antarmuka yang\n",
        "efisien untuk menyimpan dan beroperasi pada buffer data yang padat. Dalam\n",
        "beberapa hal, Array NumPy seperti tipe daftar bawaan Python, tetapi array\n",
        "NumPy menyediakan banyak hal penyimpanan dan operasi data yang lebih\n",
        "efisien karena ukuran array semakin besar."
      ],
      "metadata": {
        "id": "xoSAhYuCp20o"
      }
    },
    {
      "cell_type": "code",
      "execution_count": null,
      "metadata": {
        "colab": {
          "base_uri": "https://localhost:8080/"
        },
        "id": "iFVldSyEp2K0",
        "outputId": "f232213b-98de-4767-a75b-60eba2c26469"
      },
      "outputs": [
        {
          "output_type": "stream",
          "name": "stdout",
          "text": [
            "Requirement already satisfied: numpy in /usr/local/lib/python3.10/dist-packages (1.25.2)\n"
          ]
        }
      ],
      "source": [
        "pip install numpy"
      ]
    },
    {
      "cell_type": "code",
      "source": [
        "import numpy\n",
        "numpy.__version__"
      ],
      "metadata": {
        "colab": {
          "base_uri": "https://localhost:8080/",
          "height": 35
        },
        "id": "R73AwdP4s-eE",
        "outputId": "f743333a-7672-4b67-b1cd-dd22dbfae30a"
      },
      "execution_count": null,
      "outputs": [
        {
          "output_type": "execute_result",
          "data": {
            "text/plain": [
              "'1.25.2'"
            ],
            "application/vnd.google.colaboratory.intrinsic+json": {
              "type": "string"
            }
          },
          "metadata": {},
          "execution_count": 7
        }
      ]
    },
    {
      "cell_type": "code",
      "source": [
        "import numpy as np\n"
      ],
      "metadata": {
        "id": "8nENW3j6u9qU"
      },
      "execution_count": null,
      "outputs": []
    },
    {
      "cell_type": "code",
      "source": [
        "#membuat array\n",
        "df = np.array([1,2,3])\n",
        "df"
      ],
      "metadata": {
        "colab": {
          "base_uri": "https://localhost:8080/"
        },
        "id": "B5YpDB5atlBb",
        "outputId": "6b31ef83-ebb9-43f4-eb2c-f56674b7095c"
      },
      "execution_count": null,
      "outputs": [
        {
          "output_type": "execute_result",
          "data": {
            "text/plain": [
              "array([1, 2, 3])"
            ]
          },
          "metadata": {},
          "execution_count": 9
        }
      ]
    },
    {
      "cell_type": "markdown",
      "source": [
        "# **Type()**\n",
        "\n",
        "Untuk pengecekan tipe pada data array menggunakan fungsi type()"
      ],
      "metadata": {
        "id": "wNzijPNkvPGy"
      }
    },
    {
      "cell_type": "code",
      "source": [
        "#mengecek tupe data array\n",
        "type(df)"
      ],
      "metadata": {
        "colab": {
          "base_uri": "https://localhost:8080/"
        },
        "id": "Ir5_CBD2uU1D",
        "outputId": "8de7d7c3-f2da-4926-a984-be3e907b38b6"
      },
      "execution_count": null,
      "outputs": [
        {
          "output_type": "execute_result",
          "data": {
            "text/plain": [
              "numpy.ndarray"
            ]
          },
          "metadata": {},
          "execution_count": 10
        }
      ]
    },
    {
      "cell_type": "code",
      "source": [
        "df1 = np.array([1,2,3])\n",
        "df1.dtype"
      ],
      "metadata": {
        "colab": {
          "base_uri": "https://localhost:8080/"
        },
        "id": "4lgCrbYJvcaA",
        "outputId": "f62361af-05c0-4110-c130-731e31c96606"
      },
      "execution_count": null,
      "outputs": [
        {
          "output_type": "execute_result",
          "data": {
            "text/plain": [
              "dtype('int64')"
            ]
          },
          "metadata": {},
          "execution_count": 11
        }
      ]
    },
    {
      "cell_type": "code",
      "source": [
        "df = np.array([1,2,3], dtype='int32')\n",
        "df.dtype"
      ],
      "metadata": {
        "colab": {
          "base_uri": "https://localhost:8080/"
        },
        "id": "fKK-B0h_vyiX",
        "outputId": "770bd121-079d-411d-bef4-d1038e8e90ab"
      },
      "execution_count": null,
      "outputs": [
        {
          "output_type": "execute_result",
          "data": {
            "text/plain": [
              "dtype('int32')"
            ]
          },
          "metadata": {},
          "execution_count": 12
        }
      ]
    },
    {
      "cell_type": "markdown",
      "source": [
        "**Array 2 dimensi**"
      ],
      "metadata": {
        "id": "xagjPzYExOQR"
      }
    },
    {
      "cell_type": "code",
      "source": [
        "#multi dimensi array\n",
        "my_array = np.array([[1,2,3,4,5], [2,4,6,8,10]])\n",
        "my_array"
      ],
      "metadata": {
        "colab": {
          "base_uri": "https://localhost:8080/"
        },
        "id": "0LnzUxp-v9A-",
        "outputId": "547a6b6a-4a71-466c-b15b-f1cd1c4653b2"
      },
      "execution_count": null,
      "outputs": [
        {
          "output_type": "execute_result",
          "data": {
            "text/plain": [
              "array([[ 1,  2,  3,  4,  5],\n",
              "       [ 2,  4,  6,  8, 10]])"
            ]
          },
          "metadata": {},
          "execution_count": 13
        }
      ]
    },
    {
      "cell_type": "markdown",
      "source": [
        "**Membuat Array**\n",
        "\n",
        "Dimulai dengan mendefinisikan tiga acak array: array satu dimensi, dua\n",
        "dimensi, dan tiga dimensi. Dengan menggunakan Generator nomor acak\n",
        "NumPy, akan di-seed dengan nilai yang ditetapkan untuk pastikan bahwa array\n",
        "acak yang sama dihasilkan setiap kali kode ini dijalankan"
      ],
      "metadata": {
        "id": "JPD_FbVk0JdV"
      }
    },
    {
      "cell_type": "code",
      "source": [
        "np.random.seed(0)\n",
        "x1 = np.random.randint(10, size = 6) #one dimension array\n",
        "x2 = np.random.randint(10, size = (3,4)) #two dimension array\n",
        "x3 = np.random.randint(10, size=(3,4,5)) #three dimension array\n",
        "\n",
        "print(f\"x3 ndim : {x3.ndim}\")\n",
        "print(f\"x3 ndim : {x3.shape}\")\n",
        "print(f\"x3 ndim : {x3.size}\")"
      ],
      "metadata": {
        "colab": {
          "base_uri": "https://localhost:8080/"
        },
        "id": "1NW9SA4qxh1_",
        "outputId": "95878633-5992-4a8c-c118-fec0f1b686b2"
      },
      "execution_count": null,
      "outputs": [
        {
          "output_type": "stream",
          "name": "stdout",
          "text": [
            "x3 ndim : 3\n",
            "x3 ndim : (3, 4, 5)\n",
            "x3 ndim : 60\n"
          ]
        }
      ]
    },
    {
      "cell_type": "markdown",
      "source": [
        "# **Aritmatika**"
      ],
      "metadata": {
        "id": "qhFzTtua2QDK"
      }
    },
    {
      "cell_type": "code",
      "source": [
        "arr_A = np.array([1,2,3,4,5])\n",
        "arr_B = np.array([2,2,2,2,2])\n",
        "\n",
        "print(f\"Penjumlahan : {arr_A + arr_B}\")\n",
        "print(f\"Pengurangan : {arr_A - arr_B}\")\n",
        "print(f\"Perkalian : {arr_A * arr_B}\")\n",
        "print(f\"Pembagian : {arr_A / arr_B}\")\n",
        "print(f\"Perpangkatan : {arr_A ** arr_B}\")"
      ],
      "metadata": {
        "colab": {
          "base_uri": "https://localhost:8080/"
        },
        "id": "jea6V1Q92QmK",
        "outputId": "2a100fe9-22af-41e9-f14e-c9fdc3ae44da"
      },
      "execution_count": null,
      "outputs": [
        {
          "output_type": "stream",
          "name": "stdout",
          "text": [
            "Penjumlahan : [3 4 5 6 7]\n",
            "Pengurangan : [-1  0  1  2  3]\n",
            "Perkalian : [ 2  4  6  8 10]\n",
            "Pembagian : [0.5 1.  1.5 2.  2.5]\n",
            "Perpangkatan : [ 1  4  9 16 25]\n"
          ]
        }
      ]
    },
    {
      "cell_type": "markdown",
      "source": [
        "# **Slicing**"
      ],
      "metadata": {
        "id": "cyvQx_0D9NdK"
      }
    },
    {
      "cell_type": "code",
      "source": [
        "x = np.arange(10)\n",
        "x"
      ],
      "metadata": {
        "colab": {
          "base_uri": "https://localhost:8080/"
        },
        "id": "Tccw4Fnm60FP",
        "outputId": "00dd640f-a4fd-473a-9fa4-6c52b0428082"
      },
      "execution_count": null,
      "outputs": [
        {
          "output_type": "execute_result",
          "data": {
            "text/plain": [
              "array([0, 1, 2, 3, 4, 5, 6, 7, 8, 9])"
            ]
          },
          "metadata": {},
          "execution_count": 16
        }
      ]
    },
    {
      "cell_type": "code",
      "source": [
        "x[:5] #first five elements"
      ],
      "metadata": {
        "colab": {
          "base_uri": "https://localhost:8080/"
        },
        "id": "vjbOZK8s9bhW",
        "outputId": "888722cf-0adf-4087-aa0e-5887c27c5787"
      },
      "execution_count": null,
      "outputs": [
        {
          "output_type": "execute_result",
          "data": {
            "text/plain": [
              "array([0, 1, 2, 3, 4])"
            ]
          },
          "metadata": {},
          "execution_count": 17
        }
      ]
    },
    {
      "cell_type": "code",
      "source": [
        "x[5:] #element after index 5"
      ],
      "metadata": {
        "colab": {
          "base_uri": "https://localhost:8080/"
        },
        "id": "gvi0YEAd9gHc",
        "outputId": "dc2e21cc-51ad-44c9-da45-867b6bf2c2e6"
      },
      "execution_count": null,
      "outputs": [
        {
          "output_type": "execute_result",
          "data": {
            "text/plain": [
              "array([5, 6, 7, 8, 9])"
            ]
          },
          "metadata": {},
          "execution_count": 18
        }
      ]
    },
    {
      "cell_type": "code",
      "source": [
        "x[4:6] #middle subarray"
      ],
      "metadata": {
        "colab": {
          "base_uri": "https://localhost:8080/"
        },
        "id": "sT2ry_nV9uHL",
        "outputId": "78f6b8c1-67a4-4d7e-d266-d0b57e559ce6"
      },
      "execution_count": null,
      "outputs": [
        {
          "output_type": "execute_result",
          "data": {
            "text/plain": [
              "array([4, 5])"
            ]
          },
          "metadata": {},
          "execution_count": 19
        }
      ]
    },
    {
      "cell_type": "markdown",
      "source": [
        "# **Manipulasi Shape**\n",
        "Jenis operasi lain yang berguna adalah membentuk kembali array. Cara\n",
        "yang paling fleksibel untuk melakukan ini adalah dengan metode reshape().\n",
        "Misalnya, jika ingin memasukkan nomor 1 sampai 9 dalam kotak 3×3, dapat\n",
        "melakukan hal berikut"
      ],
      "metadata": {
        "id": "aWJKwrXk_nUb"
      }
    },
    {
      "cell_type": "code",
      "source": [
        "grid = np.arange(1,13).reshape((3,4))\n",
        "print(grid)"
      ],
      "metadata": {
        "colab": {
          "base_uri": "https://localhost:8080/"
        },
        "id": "yRdHHhoA9yxd",
        "outputId": "b399544a-bcc0-42e4-8d65-f4c08195514f"
      },
      "execution_count": null,
      "outputs": [
        {
          "output_type": "stream",
          "name": "stdout",
          "text": [
            "[[ 1  2  3  4]\n",
            " [ 5  6  7  8]\n",
            " [ 9 10 11 12]]\n"
          ]
        }
      ]
    },
    {
      "cell_type": "code",
      "source": [
        "x = np.array([1,2,3])\n"
      ],
      "metadata": {
        "id": "J5yNED1E_7Xj"
      },
      "execution_count": null,
      "outputs": []
    },
    {
      "cell_type": "code",
      "source": [
        "grid = np.arange(11,36).reshape((5,5))\n",
        "print(grid)"
      ],
      "metadata": {
        "colab": {
          "base_uri": "https://localhost:8080/"
        },
        "id": "pgYxUyQyAbWp",
        "outputId": "adb8ad94-be64-4e9d-be41-320af033757b"
      },
      "execution_count": null,
      "outputs": [
        {
          "output_type": "stream",
          "name": "stdout",
          "text": [
            "[[11 12 13 14 15]\n",
            " [16 17 18 19 20]\n",
            " [21 22 23 24 25]\n",
            " [26 27 28 29 30]\n",
            " [31 32 33 34 35]]\n"
          ]
        }
      ]
    }
  ]
}